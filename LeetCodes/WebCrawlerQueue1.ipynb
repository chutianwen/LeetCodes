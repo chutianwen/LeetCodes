{
 "cells": [
  {
   "cell_type": "code",
   "execution_count": 31,
   "metadata": {},
   "outputs": [],
   "source": [
    "from bs4 import BeautifulSoup\n",
    "from urllib.parse import urljoin, urlparse\n",
    "import requests\n",
    "from queue import Queue, Empty\n",
    "from concurrent.futures import ThreadPoolExecutor"
   ]
  },
  {
   "cell_type": "code",
   "execution_count": 52,
   "metadata": {},
   "outputs": [],
   "source": [
    "class Crawler:\n",
    "    def __init__(self, root):\n",
    "        print(\"HI\")\n",
    "        protocol, host = urlparse(root).scheme, urlparse(root).netloc\n",
    "        self.root = \"{}://{}\".format(protocol, host)\n",
    "        self.explored = set()\n",
    "        self.q = Queue()\n",
    "        self.q.put(root)\n",
    "        self.pool = ThreadPoolExecutor(max_workers=20)\n",
    "    \n",
    "    def scrape_page(self, url):\n",
    "        try:\n",
    "            res = requests.get(url, timeout=(3, 30))\n",
    "            return res\n",
    "        except requests.RequestException:\n",
    "            return\n",
    "    \n",
    "    def post_scrape_call_back(self, res):\n",
    "        result = res.result()\n",
    "        if result and result.status_code == 200:\n",
    "            self.parse_links(result.text)\n",
    "    \n",
    "    def parse_links(self, html):\n",
    "        soup = BeautifulSoup(html, 'html.parser')\n",
    "        links = soup.find_all(\"a\", href=True)\n",
    "        for link in links:\n",
    "            url = link['href']\n",
    "            if url.startswith('/') or url.startswith(self.root):\n",
    "                url = urljoin(self.root, url)\n",
    "                if url not in self.explored:\n",
    "                    self.q.put(url)\n",
    "                \n",
    "    def run(self):\n",
    "        print(\"S\")\n",
    "        while True:\n",
    "            try:\n",
    "                task_url = self.q.get(timeout=60)\n",
    "                if task_url not in self.explored:\n",
    "                    print(\"Scraping URL: {}\".format(task_url))\n",
    "                    self.explored.add(task_url)\n",
    "                    job = self.pool.submit(self.scrape_page, task_url)\n",
    "                    job.add_done_callback(self.post_scrape_call_back)\n",
    "            except Empty:\n",
    "                return\n",
    "            except Exception as e:\n",
    "                print(e)\n",
    "                continue\n",
    "                "
   ]
  },
  {
   "cell_type": "code",
   "execution_count": 53,
   "metadata": {},
   "outputs": [
    {
     "name": "stdout",
     "output_type": "stream",
     "text": [
      "HI\n",
      "S\n",
      "Scraping URL: http://www.sina.com\n"
     ]
    }
   ],
   "source": [
    "Crawler(\"http://www.sina.com\").run()"
   ]
  },
  {
   "cell_type": "code",
   "execution_count": null,
   "metadata": {},
   "outputs": [],
   "source": []
  }
 ],
 "metadata": {
  "kernelspec": {
   "display_name": "Python [conda root]",
   "language": "python",
   "name": "conda-root-py"
  },
  "language_info": {
   "codemirror_mode": {
    "name": "ipython",
    "version": 3
   },
   "file_extension": ".py",
   "mimetype": "text/x-python",
   "name": "python",
   "nbconvert_exporter": "python",
   "pygments_lexer": "ipython3",
   "version": "3.6.3"
  }
 },
 "nbformat": 4,
 "nbformat_minor": 2
}
